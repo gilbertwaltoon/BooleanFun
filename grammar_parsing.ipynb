{
 "cells": [
  {
   "cell_type": "markdown",
   "metadata": {},
   "source": [
    "Engineering a compiler - Cooper and Torczan"
   ]
  },
  {
   "cell_type": "code",
   "execution_count": 6,
   "metadata": {},
   "outputs": [
    {
     "name": "stdout",
     "output_type": "stream",
     "text": [
      "leftmost  sheep_noise\n",
      "rules = [['sheep_noise', 'baa'], ['baa']]\n",
      "[['sheep_noise', 'baa'], ['baa']]\n",
      "[['sheep_noise', 'baa'], ['baa']]\n"
     ]
    }
   ],
   "source": [
    "import random\n",
    "\n",
    "class Sheep_grammar:\n",
    "    def __init__(self, name):\n",
    "        self.name = name\n",
    "        self.start = ['sheep_noise'] # start symbol\n",
    "        self.rules = {'sheep_noise':[ ['sheep_noise','baa'], ['baa'] ]}\n",
    "    \n",
    "    def nxt(self, lhs = None):\n",
    "       if lhs is None :\n",
    "        lhs = self.start\n",
    "        leftmost = lhs[0] \n",
    "        print('leftmost ', leftmost)\n",
    "       if leftmost not in self.rules.keys():  # if leftmost was not a non-terimanl (a.k.a key)\n",
    "            print(\"Done. No non-terminals.\")\n",
    "       else: \n",
    "            # get the  rules for the non-term\n",
    "            rules = self.rules[leftmost]\n",
    "            r = random.randint(0,len(rules)-1) # jump hoops: calling random directly on a list of list produces unexpected\n",
    "            print('rules =', rules)\n",
    "            print(rules)\n",
    "            print(rules)\n",
    "   \n",
    "                \n",
    "flossy = Sheep_grammar('flossy')                  \n",
    "flossy.nxt()"
   ]
  },
  {
   "cell_type": "code",
   "execution_count": 5,
   "metadata": {},
   "outputs": [
    {
     "name": "stdout",
     "output_type": "stream",
     "text": [
      "a= [['1', '2'], ['3']]\n",
      "[['1', '2'], ['3']]\n"
     ]
    }
   ],
   "source": [
    "a = [['1','2'],['3']]\n",
    "print('a=', a)\n",
    "print(a)"
   ]
  },
  {
   "cell_type": "code",
   "execution_count": null,
   "metadata": {},
   "outputs": [],
   "source": []
  }
 ],
 "metadata": {
  "kernelspec": {
   "display_name": "Python 3",
   "language": "python",
   "name": "python3"
  },
  "language_info": {
   "codemirror_mode": {
    "name": "ipython",
    "version": 3
   },
   "file_extension": ".py",
   "mimetype": "text/x-python",
   "name": "python",
   "nbconvert_exporter": "python",
   "pygments_lexer": "ipython3",
   "version": "3.6.12"
  }
 },
 "nbformat": 4,
 "nbformat_minor": 4
}
