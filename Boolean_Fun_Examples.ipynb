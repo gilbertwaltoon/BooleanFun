{
 "cells": [
  {
   "cell_type": "markdown",
   "id": "falling-coating",
   "metadata": {},
   "source": [
    "Examples of my compiler- and boolean-manipulation- scripts.\n",
    "See also unitests in C:\\Users\\DaddyDog\\Documents\\PythonScripts\\booleanfun\\unittests"
   ]
  },
  {
   "cell_type": "code",
   "execution_count": 1,
   "id": "loved-louisiana",
   "metadata": {},
   "outputs": [
    {
     "name": "stdout",
     "output_type": "stream",
     "text": [
      "About :The Sheep Grammar Engineering A Compiler, Cooper & Torczan\n",
      "\n",
      "-------------\n",
      "Sheep_grammar\n",
      "-------------\n",
      "_sheep_noise->  baa _sheep_noise\n",
      "\t\t |baa\n",
      "\n"
     ]
    }
   ],
   "source": [
    "# Defintion of grammars\n",
    "from grammars import *\n",
    "\n",
    "# Get one of the grammars\n",
    "sg = Sheep_grammar()\n",
    "# Grammars include some help info and have a pretty-print __str__ function:\n",
    "print(\"About :\" + sg.about + '\\n')\n",
    "print(sg)"
   ]
  },
  {
   "cell_type": "code",
   "execution_count": 2,
   "id": "junior-vermont",
   "metadata": {
    "scrolled": false
   },
   "outputs": [
    {
     "name": "stdout",
     "output_type": "stream",
     "text": [
      "Starting with a left recursive Boolean gramma:\n",
      "--------------------\n",
      "Boolean_lrec_grammar\n",
      "--------------------\n",
      "_expr->  _expr + _term\n",
      "\t\t |_term\n",
      "_term->  _term * _value\n",
      "\t\t |_value\n",
      "_value->  ! _factor\n",
      "\t\t |_factor\n",
      "_factor->  ( _expr )\n",
      "\t\t |num\n",
      "\t\t |var\n",
      "\n",
      "Call transform() to get the right-recursive equivalent rules :\n",
      "--------------------\n",
      "Boolean_lrec_grammar\n",
      "--------------------\n",
      "_expr->  _term _expr2\n",
      "_term->  _value _term2\n",
      "_value->  ! _factor\n",
      "\t\t |_factor\n",
      "_factor->  ( _expr )\n",
      "\t\t |num\n",
      "\t\t |var\n",
      "\n"
     ]
    }
   ],
   "source": [
    "# Grammar helpers includes the function 'transform' (c.f. p103 Engineering A Compiler Cooper & Torczan) to get\n",
    "# a right recursive grammar from a left-recursive :\n",
    "from grammar_helpers import *\n",
    "lbg = Boolean_lrec_grammar()\n",
    "print('Starting with a left recursive Boolean gramma:')    \n",
    "print(lbg)\n",
    "print('Call transform() to get the right-recursive equivalent rules :')\n",
    "transform(lbg)\n",
    "print(lbg)"
   ]
  },
  {
   "cell_type": "code",
   "execution_count": 3,
   "id": "mental-essex",
   "metadata": {},
   "outputs": [
    {
     "name": "stdout",
     "output_type": "stream",
     "text": [
      "('var _eps _eps', ['var', '_eps', '_eps'])\n"
     ]
    }
   ],
   "source": [
    "# grammatical_speaker.say_sentence() will produce a random sentence \n",
    "from grammatical_speaker import *\n",
    "ag = Classic_rrec_expr_grammar()\n",
    "gs = Grammatical_speaker(ag)\n",
    "print(gs.say_sentence(max_iters = 10)) # limit the number of recursive calls to avoid possibly excessive recursion"
   ]
  },
  {
   "cell_type": "code",
   "execution_count": 4,
   "id": "grand-market",
   "metadata": {},
   "outputs": [
    {
     "name": "stdout",
     "output_type": "stream",
     "text": [
      "[['var', 'x'], ['+', ''], ['(', ''], ['!', ''], ['var', 'y'], [')', '']]\n"
     ]
    }
   ],
   "source": [
    "# Various lexers are available including Boolean and Classic.\n",
    "from boolean_lexer import *\n",
    "\n",
    "g = boolean_lexer('x + (!y)') # lexers return a generator :\n",
    "print([_ for _ in g])  "
   ]
  },
  {
   "cell_type": "code",
   "execution_count": 5,
   "id": "interior-jewel",
   "metadata": {},
   "outputs": [
    {
     "name": "stdout",
     "output_type": "stream",
     "text": [
      "Name:one\n",
      "Parents:[<treenode.TreeNode object at 0x000002AAD9F7BE88>]\n",
      "Children:[<treenode.TreeNode object at 0x000002AAD9F7F588>]\n",
      "Data:[]\n",
      "\n",
      "myrootnode\n",
      "\tone\n",
      "\t\ttwo\n",
      "\n"
     ]
    }
   ],
   "source": [
    "# tree accepts and treenode objects. tree is NOT-limited to binary trees \n",
    "# see unitests/test_tree for examples of use\n",
    "from tree import Tree\n",
    "from treenode import TreeNode\n",
    "\n",
    "myrootnode = TreeNode(name = 'myrootnode', root = True, parents = [], children = [], data = ['foo'])\n",
    "t = Tree(root=myrootnode, name='mytree')\n",
    "node1 = TreeNode(name = 'one', parents = [myrootnode])\n",
    "node2 = TreeNode(name = 'two', parents = [node1])\n",
    "t.add_node(node1)\n",
    "t.add_node(node2)\n",
    "# nodes and trees include a pretty-print \n",
    "print(node1)\n",
    "print('')\n",
    "print(t)"
   ]
  },
  {
   "cell_type": "code",
   "execution_count": 6,
   "id": "induced-software",
   "metadata": {},
   "outputs": [
    {
     "name": "stdout",
     "output_type": "stream",
     "text": [
      "_expr\n",
      "\t_term\n",
      "\t\t_value\n",
      "\t\t\t!\n",
      "\t\t\t_factor\n",
      "\t\t\t\t(\n",
      "\t\t\t\t\t_expr\n",
      "\t\t\t\t\t\t_term\n",
      "\t\t\t\t\t\t\t_value\n",
      "\t\t\t\t\t\t\t\t!\n",
      "\t\t\t\t\t\t\t\t_factor\n",
      "\t\t\t\t\t\t\t\t\tvar,x\n",
      "\t\t\t\t\t\t\t_term2\n",
      "\t\t\t\t\t\t_expr2\n",
      "\t\t\t\t\t\t\t+\n",
      "\t\t\t\t\t\t\t_term\n",
      "\t\t\t\t\t\t\t\t_value\n",
      "\t\t\t\t\t\t\t\t\t!\n",
      "\t\t\t\t\t\t\t\t\t_factor\n",
      "\t\t\t\t\t\t\t\t\t\tvar,y\n",
      "\t\t\t\t\t\t\t\t_term2\n",
      "\t\t\t\t\t\t\t_expr2\n",
      "\t\t\t\t\t)\n",
      "\t\t_term2\n",
      "\t_expr2\n",
      "\n"
     ]
    }
   ],
   "source": [
    "# boolean_parse_tree() and the equivalent classoc_parse_tree will return a parse tree from a lexer generator:\n",
    "from boolean_parse_tree import *\n",
    "print(boolean_parse_tree(boolean_lexer('!(!x+!y)')))"
   ]
  },
  {
   "cell_type": "code",
   "execution_count": null,
   "id": "normal-brave",
   "metadata": {},
   "outputs": [],
   "source": []
  }
 ],
 "metadata": {
  "kernelspec": {
   "display_name": "Python 3",
   "language": "python",
   "name": "python3"
  },
  "language_info": {
   "codemirror_mode": {
    "name": "ipython",
    "version": 3
   },
   "file_extension": ".py",
   "mimetype": "text/x-python",
   "name": "python",
   "nbconvert_exporter": "python",
   "pygments_lexer": "ipython3",
   "version": "3.7.9"
  }
 },
 "nbformat": 4,
 "nbformat_minor": 5
}
