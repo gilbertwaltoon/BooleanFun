{
 "cells": [
  {
   "cell_type": "markdown",
   "metadata": {},
   "source": [
    "# Boolean Fun\n",
    "\n",
    "## EXPAND()\n",
    "The EXPAND() function page 22 of Boolean Functions (Crama, Hammer) , here C:\\Users\\DaddyDog\\Documents\\myDocs\\Books\\books\\mathematics\n",
    "\n",
    "Given an arbitrary Boolean expression $\\phi(X)=\\phi(x_1,x_2,...,x_n)$  on $\\mathcal{B}^n$, <br>\n",
    "we associate a DNF $\\psi(X,Y)=\\psi(x_1,x_2,...,x_n,y_1,y_2,....,y_m)$, (possibly $m=0$), and a distinguisehed literal $z$. <br>\n",
    "<br>\n",
    "The associated constructs have the property that, for all $X^* \\in \\mathcal{B}^n$ there is a unqiue point $Y^* \\in \\mathcal{B}^n$ such that $\\psi(X^*,Y^*)=0$\n",
    "\n"
   ]
  },
  {
   "cell_type": "code",
   "execution_count": 52,
   "metadata": {},
   "outputs": [
    {
     "name": "stdout",
     "output_type": "stream",
     "text": [
      "['wibble765', 'wobble', 'flip', 'flop']\n"
     ]
    }
   ],
   "source": [
    "# ASIDE\n",
    "#   Before getting started on EXPAND(), gaining some\n",
    "#   familiarity with 're' string parsing library.\n",
    "\n",
    "import re\n",
    "xx = \"wibble765.wobble flip flop\"\n",
    "# 'r' below indicates to re to process strings as 'raw' - backslashes are not treeated specially\n",
    "# \\w means match alpha numeric chars including _\n",
    "# + means match one of more  ^ means start of string only\n",
    "r1 = re.findall(r\"^\\w+\",xx)  \n",
    "print(r1)\n",
    "\n",
    "# Notice print out stops after \"wibble765\" since is \".\"\" not alphanumeric."
   ]
  },
  {
   "cell_type": "code",
   "execution_count": 39,
   "metadata": {},
   "outputs": [
    {
     "name": "stdout",
     "output_type": "stream",
     "text": [
      "['x1', 'x2', 'x3', 'x4', 'x5']\n"
     ]
    }
   ],
   "source": [
    "# ASIDE 2\n",
    "#   Before getting started on EXPAND(), gaining some\n",
    "#   familiarity with 're' string parsing library.\n",
    "import re\n",
    "X = 'x1+x2 + x3 . x4 + x5'\n",
    "X = X.replace(\" \",\"\")\n",
    "Xsplit = re.split(r'\\+|\\.',X)  # Pipe: StartMenu->WindowsAccessories->CharMap\n",
    "print(Xsplit) \n"
   ]
  },
  {
   "cell_type": "code",
   "execution_count": 58,
   "metadata": {},
   "outputs": [
    {
     "name": "stdout",
     "output_type": "stream",
     "text": [
      "found y\n"
     ]
    }
   ],
   "source": [
    "# ASIDE 3\n",
    "#   Before getting started on EXPAND(), gaining some\n",
    "#   familiarity with 're' string parsing library.\n",
    "import re\n",
    "X = 'x1+x2 + y1x3 . x4 + x5'\n",
    "yfind = X.find('y')  # Pipe: StartMenu->WindowsAccessories->CharMap\n",
    "if yfind != -1:\n",
    "    print(\"found y\")\n",
    "else:\n",
    "    print(\"not found y\")"
   ]
  },
  {
   "cell_type": "code",
   "execution_count": 60,
   "metadata": {},
   "outputs": [
    {
     "name": "stdout",
     "output_type": "stream",
     "text": [
      "None\n"
     ]
    }
   ],
   "source": [
    "import re\n",
    "def EXPAND(phi):\n",
    "    # Input : A list representing a Boolean expression phi(x1,x2,...,xn).\n",
    "    # Ouput : A DNF psi(x1,x2,...,xn,y1,y2...yn) and distinguished literal z among the liternals {x1,x2,...,xn,y1,y2...yn}.\n",
    "    #phi = phi.replace(\" \",\"\")  # remove whitespaces\n",
    "    if len(re.split(r'\\+|\\.',phi)) == 1: # if there are no +,.  \n",
    "            return [\"0\",phi[0]]\n",
    "    # Currently missing a step here of checking whether phi = NOT(phi)\n",
    "    elif len(re.split(r'\\+\\.',phi)) != 0: # We've found at least one +\n",
    "        phisplt = re.split(r'\\+\\.',phi) \n",
    "        for phii in phisplt:\n",
    "            if (phii.find('y') != -1): # No 'y', so we've not yet expanded this term\n",
    "                y = y + str(phisplt.index(phii)) \n",
    "                \n",
    "                \n",
    "            \n",
    "    \n",
    "print(EXPAND(\"x1 + x4\"))    "
   ]
  },
  {
   "cell_type": "code",
   "execution_count": null,
   "metadata": {},
   "outputs": [],
   "source": []
  }
 ],
 "metadata": {
  "kernelspec": {
   "display_name": "Python 3",
   "language": "python",
   "name": "python3"
  },
  "language_info": {
   "codemirror_mode": {
    "name": "ipython",
    "version": 3
   },
   "file_extension": ".py",
   "mimetype": "text/x-python",
   "name": "python",
   "nbconvert_exporter": "python",
   "pygments_lexer": "ipython3",
   "version": "3.6.8"
  }
 },
 "nbformat": 4,
 "nbformat_minor": 2
}
