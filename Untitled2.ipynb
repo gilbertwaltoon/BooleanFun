{
 "cells": [
  {
   "cell_type": "code",
   "execution_count": 125,
   "metadata": {},
   "outputs": [
    {
     "name": "stdout",
     "output_type": "stream",
     "text": [
      "flossy says baa baa baa baa\n"
     ]
    }
   ],
   "source": [
    "import random\n",
    "\n",
    "class sheep_grammar:\n",
    "    '''A very basic grammar'''\n",
    "    \n",
    "    def __init__(self, name):\n",
    "        self.name = name\n",
    "        self.rules = {\"sheep_noise\":[[\"sheep_noise\",\"baa\"],[\"baa\"]]}\n",
    "        self.start = [\"sheep_noise\"]\n",
    "        self.allowed_non_terms = list(self.rules.keys())\n",
    "        \n",
    "    def _nxt(self,lhs):\n",
    "        if lhs is None:\n",
    "             possible_non_term = self.start[0]            \n",
    "        else:\n",
    "            possible_non_term = lhs[0] #Select leftmost non-term for replacement\n",
    "        if possible_non_term not in self.allowed_non_terms:\n",
    "           # print(possible_non_term[0:], \" not in \", self.allowed_non_terms)\n",
    "           # print(\"No non-terminals remain.\")\n",
    "            return None\n",
    "        else:\n",
    "            non_term = possible_non_term\n",
    "            return random.choice(self.rules[non_term])\n",
    "        \n",
    "    def talk_to_me(self):\n",
    "        lhs = self._nxt(None)\n",
    "        sent = ''.join([lhs[-1]])\n",
    "        while (lhs != None):\n",
    "            lhs = self._nxt(lhs) \n",
    "            if (lhs != None):               \n",
    "                sent = ''.join([sent,' ', lhs[-1]])\n",
    "        print(''.join([self.name, ' says ', sent]))\n",
    "        \n",
    "sheep = sheep_grammar(\"Flossy\")\n",
    "a_sheep.talk_to_me()"
   ]
  },
  {
   "cell_type": "code",
   "execution_count": 175,
   "metadata": {},
   "outputs": [
    {
     "name": "stdout",
     "output_type": "stream",
     "text": [
      "Winnie baa baa baa baa baa baa baa baa eats grass.\n",
      " \n",
      "Winnie baa baa\n",
      " \n",
      "Winnie  eats grass.\n",
      " \n",
      "Winnie baa baa baa baa\n",
      " \n",
      "Winnie baa baa eats grass.\n",
      " \n",
      "Winnie baa baa baa\n",
      " \n",
      "Winnie baa baa baa\n",
      " \n",
      "Winnie baa baa\n",
      " \n",
      "Winnie  baa\n",
      " \n",
      "Winnie baa baa baa baa eats grass.\n",
      " \n",
      "Winnie baa baa\n",
      " \n",
      "Winnie baa baa baa baa baa\n",
      " \n",
      "Winnie baa baa baa baa\n",
      " \n",
      "Winnie baa baa\n",
      " \n",
      "Winnie baa baa eats grass.\n",
      " \n"
     ]
    }
   ],
   "source": [
    "class vocal_sheep_grammar:\n",
    "    \n",
    "    def __init__(self, name):\n",
    "        self.name = name\n",
    "        self.rules = {\"_sheep_noise\":[[\"_sheep_noise\",\"baa\"],[\"baa\"],[\"_eats\"]], \\\n",
    "                      \"_eats\":[[\"_sheep_noise\"],[\"eats grass.\"]]}\n",
    "        self.start = [\"_sheep_noise\"]\n",
    "        self.allowed_non_terms = list(self.rules.keys())\n",
    "        \n",
    "    def _nxt(self,lhs):\n",
    "        if lhs is None:\n",
    "             possible_non_term = self.start[0]            \n",
    "        else:\n",
    "            possible_non_term = lhs[0] #Select leftmost non-term for replacement\n",
    "        if possible_non_term not in self.allowed_non_terms:\n",
    "           # print(possible_non_term[0:], \" not in \", self.allowed_non_terms)\n",
    "           # print(\"No non-terminals remain.\")\n",
    "            return None\n",
    "        else:\n",
    "            non_term = possible_non_term\n",
    "            return random.choice(self.rules[non_term])\n",
    "        \n",
    "    def talk_to_me(self):\n",
    "        lhs = self._nxt(None)\n",
    "        sent = ''\n",
    "        if lhs[-1][0] != '_':\n",
    "            sent = sent.join([lhs[-1]])\n",
    "        while (lhs != None):\n",
    "            if lhs[-1][0] != '_':\n",
    "                sent = ''.join([sent,' ', lhs[-1]])\n",
    "            lhs = self._nxt(lhs) \n",
    "        print(''.join([self.name, ' ', sent]))\n",
    "        print(' ')\n",
    "        \n",
    "ano_sheep = vocal_sheep_grammar(\"Winnie\")\n",
    "for i in range(0,15):\n",
    "    ano_sheep.talk_to_me()"
   ]
  },
  {
   "cell_type": "code",
   "execution_count": null,
   "metadata": {},
   "outputs": [],
   "source": []
  },
  {
   "cell_type": "code",
   "execution_count": null,
   "metadata": {},
   "outputs": [],
   "source": []
  },
  {
   "cell_type": "code",
   "execution_count": null,
   "metadata": {},
   "outputs": [],
   "source": []
  }
 ],
 "metadata": {
  "kernelspec": {
   "display_name": "Python 3",
   "language": "python",
   "name": "python3"
  },
  "language_info": {
   "codemirror_mode": {
    "name": "ipython",
    "version": 3
   },
   "file_extension": ".py",
   "mimetype": "text/x-python",
   "name": "python",
   "nbconvert_exporter": "python",
   "pygments_lexer": "ipython3",
   "version": "3.6.12"
  }
 },
 "nbformat": 4,
 "nbformat_minor": 4
}
